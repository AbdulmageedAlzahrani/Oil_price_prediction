{
  "nbformat": 4,
  "nbformat_minor": 0,
  "metadata": {
    "colab": {
      "name": "Untitled53.ipynb",
      "provenance": []
    },
    "kernelspec": {
      "name": "python3",
      "display_name": "Python 3"
    },
    "language_info": {
      "name": "python"
    }
  },
  "cells": [
    {
      "cell_type": "code",
      "execution_count": 1,
      "metadata": {
        "id": "Qm8t1Rl0zv0S"
      },
      "outputs": [],
      "source": [
        "#import libraries\n",
        "import pandas as pd\n",
        "from sklearn.preprocessing import StandardScaler\n",
        "import numpy as np\n",
        "from tensorflow.keras.models import Sequential\n",
        "from tensorflow.keras.layers import LSTM\n",
        "from tensorflow.keras.layers import Dense, Dropout\n",
        "import matplotlib.pyplot as plt\n",
        "import seaborn as sns"
      ]
    },
    {
      "cell_type": "code",
      "source": [
        "df = pd.read_csv('Data/Oil.csv')"
      ],
      "metadata": {
        "id": "44a6c-hM2s7q"
      },
      "execution_count": 2,
      "outputs": []
    },
    {
      "cell_type": "code",
      "source": [
        "df['Date'] = pd.to_datetime(df['Date'])"
      ],
      "metadata": {
        "id": "FOGrUZkrHJn6"
      },
      "execution_count": 3,
      "outputs": []
    },
    {
      "cell_type": "code",
      "source": [
        "df = df.drop(df.columns[0],axis=1)"
      ],
      "metadata": {
        "id": "3j71W5R4HeUY"
      },
      "execution_count": 4,
      "outputs": []
    },
    {
      "cell_type": "code",
      "source": [
        "df.info()"
      ],
      "metadata": {
        "colab": {
          "base_uri": "https://localhost:8080/"
        },
        "id": "y3P9o8Zz3BhQ",
        "outputId": "ee40beda-686f-438f-d551-d078245118c7"
      },
      "execution_count": 5,
      "outputs": [
        {
          "output_type": "stream",
          "name": "stdout",
          "text": [
            "<class 'pandas.core.frame.DataFrame'>\n",
            "RangeIndex: 7942 entries, 0 to 7941\n",
            "Data columns (total 7 columns):\n",
            " #   Column    Non-Null Count  Dtype         \n",
            "---  ------    --------------  -----         \n",
            " 0   Date      7942 non-null   datetime64[ns]\n",
            " 1   Price     7942 non-null   float64       \n",
            " 2   Open      7942 non-null   float64       \n",
            " 3   High      7942 non-null   float64       \n",
            " 4   Low       7942 non-null   float64       \n",
            " 5   Vol.      7942 non-null   object        \n",
            " 6   Change %  7942 non-null   object        \n",
            "dtypes: datetime64[ns](1), float64(4), object(2)\n",
            "memory usage: 434.5+ KB\n"
          ]
        }
      ]
    },
    {
      "cell_type": "code",
      "source": [
        "df"
      ],
      "metadata": {
        "colab": {
          "base_uri": "https://localhost:8080/",
          "height": 423
        },
        "id": "SxMZ1kpIHWjw",
        "outputId": "de6d6b82-c1a1-4da5-f238-b4fff57b3108"
      },
      "execution_count": 6,
      "outputs": [
        {
          "output_type": "execute_result",
          "data": {
            "text/html": [
              "\n",
              "  <div id=\"df-7ee9af16-8b09-4462-bd47-d2405f1a4820\">\n",
              "    <div class=\"colab-df-container\">\n",
              "      <div>\n",
              "<style scoped>\n",
              "    .dataframe tbody tr th:only-of-type {\n",
              "        vertical-align: middle;\n",
              "    }\n",
              "\n",
              "    .dataframe tbody tr th {\n",
              "        vertical-align: top;\n",
              "    }\n",
              "\n",
              "    .dataframe thead th {\n",
              "        text-align: right;\n",
              "    }\n",
              "</style>\n",
              "<table border=\"1\" class=\"dataframe\">\n",
              "  <thead>\n",
              "    <tr style=\"text-align: right;\">\n",
              "      <th></th>\n",
              "      <th>Date</th>\n",
              "      <th>Price</th>\n",
              "      <th>Open</th>\n",
              "      <th>High</th>\n",
              "      <th>Low</th>\n",
              "      <th>Vol.</th>\n",
              "      <th>Change %</th>\n",
              "    </tr>\n",
              "  </thead>\n",
              "  <tbody>\n",
              "    <tr>\n",
              "      <th>0</th>\n",
              "      <td>1990-11-30</td>\n",
              "      <td>29.20</td>\n",
              "      <td>32.05</td>\n",
              "      <td>32.45</td>\n",
              "      <td>29.05</td>\n",
              "      <td>4.00K</td>\n",
              "      <td>-9.85%</td>\n",
              "    </tr>\n",
              "    <tr>\n",
              "      <th>1</th>\n",
              "      <td>1990-12-03</td>\n",
              "      <td>29.72</td>\n",
              "      <td>29.00</td>\n",
              "      <td>30.35</td>\n",
              "      <td>28.50</td>\n",
              "      <td>15.48K</td>\n",
              "      <td>1.78%</td>\n",
              "    </tr>\n",
              "    <tr>\n",
              "      <th>2</th>\n",
              "      <td>1990-12-04</td>\n",
              "      <td>30.70</td>\n",
              "      <td>29.60</td>\n",
              "      <td>30.70</td>\n",
              "      <td>29.50</td>\n",
              "      <td>11.83K</td>\n",
              "      <td>3.30%</td>\n",
              "    </tr>\n",
              "    <tr>\n",
              "      <th>3</th>\n",
              "      <td>1990-12-05</td>\n",
              "      <td>27.33</td>\n",
              "      <td>29.60</td>\n",
              "      <td>30.30</td>\n",
              "      <td>27.30</td>\n",
              "      <td>23.48K</td>\n",
              "      <td>-10.98%</td>\n",
              "    </tr>\n",
              "    <tr>\n",
              "      <th>4</th>\n",
              "      <td>1990-12-06</td>\n",
              "      <td>26.80</td>\n",
              "      <td>27.30</td>\n",
              "      <td>28.00</td>\n",
              "      <td>25.45</td>\n",
              "      <td>24.73K</td>\n",
              "      <td>-1.94%</td>\n",
              "    </tr>\n",
              "    <tr>\n",
              "      <th>...</th>\n",
              "      <td>...</td>\n",
              "      <td>...</td>\n",
              "      <td>...</td>\n",
              "      <td>...</td>\n",
              "      <td>...</td>\n",
              "      <td>...</td>\n",
              "      <td>...</td>\n",
              "    </tr>\n",
              "    <tr>\n",
              "      <th>7937</th>\n",
              "      <td>2021-12-23</td>\n",
              "      <td>76.85</td>\n",
              "      <td>75.47</td>\n",
              "      <td>77.00</td>\n",
              "      <td>74.78</td>\n",
              "      <td>161.24K</td>\n",
              "      <td>2.07%</td>\n",
              "    </tr>\n",
              "    <tr>\n",
              "      <th>7938</th>\n",
              "      <td>2021-12-24</td>\n",
              "      <td>76.14</td>\n",
              "      <td>76.72</td>\n",
              "      <td>76.79</td>\n",
              "      <td>75.75</td>\n",
              "      <td>30.54K</td>\n",
              "      <td>-0.92%</td>\n",
              "    </tr>\n",
              "    <tr>\n",
              "      <th>7939</th>\n",
              "      <td>2021-12-27</td>\n",
              "      <td>78.60</td>\n",
              "      <td>76.32</td>\n",
              "      <td>79.08</td>\n",
              "      <td>75.75</td>\n",
              "      <td>85.39K</td>\n",
              "      <td>3.23%</td>\n",
              "    </tr>\n",
              "    <tr>\n",
              "      <th>7940</th>\n",
              "      <td>2021-12-28</td>\n",
              "      <td>78.94</td>\n",
              "      <td>78.67</td>\n",
              "      <td>79.85</td>\n",
              "      <td>78.48</td>\n",
              "      <td>50.41K</td>\n",
              "      <td>0.43%</td>\n",
              "    </tr>\n",
              "    <tr>\n",
              "      <th>7941</th>\n",
              "      <td>2021-12-29</td>\n",
              "      <td>79.23</td>\n",
              "      <td>79.28</td>\n",
              "      <td>80.17</td>\n",
              "      <td>78.13</td>\n",
              "      <td>69.63K</td>\n",
              "      <td>0.37%</td>\n",
              "    </tr>\n",
              "  </tbody>\n",
              "</table>\n",
              "<p>7942 rows × 7 columns</p>\n",
              "</div>\n",
              "      <button class=\"colab-df-convert\" onclick=\"convertToInteractive('df-7ee9af16-8b09-4462-bd47-d2405f1a4820')\"\n",
              "              title=\"Convert this dataframe to an interactive table.\"\n",
              "              style=\"display:none;\">\n",
              "        \n",
              "  <svg xmlns=\"http://www.w3.org/2000/svg\" height=\"24px\"viewBox=\"0 0 24 24\"\n",
              "       width=\"24px\">\n",
              "    <path d=\"M0 0h24v24H0V0z\" fill=\"none\"/>\n",
              "    <path d=\"M18.56 5.44l.94 2.06.94-2.06 2.06-.94-2.06-.94-.94-2.06-.94 2.06-2.06.94zm-11 1L8.5 8.5l.94-2.06 2.06-.94-2.06-.94L8.5 2.5l-.94 2.06-2.06.94zm10 10l.94 2.06.94-2.06 2.06-.94-2.06-.94-.94-2.06-.94 2.06-2.06.94z\"/><path d=\"M17.41 7.96l-1.37-1.37c-.4-.4-.92-.59-1.43-.59-.52 0-1.04.2-1.43.59L10.3 9.45l-7.72 7.72c-.78.78-.78 2.05 0 2.83L4 21.41c.39.39.9.59 1.41.59.51 0 1.02-.2 1.41-.59l7.78-7.78 2.81-2.81c.8-.78.8-2.07 0-2.86zM5.41 20L4 18.59l7.72-7.72 1.47 1.35L5.41 20z\"/>\n",
              "  </svg>\n",
              "      </button>\n",
              "      \n",
              "  <style>\n",
              "    .colab-df-container {\n",
              "      display:flex;\n",
              "      flex-wrap:wrap;\n",
              "      gap: 12px;\n",
              "    }\n",
              "\n",
              "    .colab-df-convert {\n",
              "      background-color: #E8F0FE;\n",
              "      border: none;\n",
              "      border-radius: 50%;\n",
              "      cursor: pointer;\n",
              "      display: none;\n",
              "      fill: #1967D2;\n",
              "      height: 32px;\n",
              "      padding: 0 0 0 0;\n",
              "      width: 32px;\n",
              "    }\n",
              "\n",
              "    .colab-df-convert:hover {\n",
              "      background-color: #E2EBFA;\n",
              "      box-shadow: 0px 1px 2px rgba(60, 64, 67, 0.3), 0px 1px 3px 1px rgba(60, 64, 67, 0.15);\n",
              "      fill: #174EA6;\n",
              "    }\n",
              "\n",
              "    [theme=dark] .colab-df-convert {\n",
              "      background-color: #3B4455;\n",
              "      fill: #D2E3FC;\n",
              "    }\n",
              "\n",
              "    [theme=dark] .colab-df-convert:hover {\n",
              "      background-color: #434B5C;\n",
              "      box-shadow: 0px 1px 3px 1px rgba(0, 0, 0, 0.15);\n",
              "      filter: drop-shadow(0px 1px 2px rgba(0, 0, 0, 0.3));\n",
              "      fill: #FFFFFF;\n",
              "    }\n",
              "  </style>\n",
              "\n",
              "      <script>\n",
              "        const buttonEl =\n",
              "          document.querySelector('#df-7ee9af16-8b09-4462-bd47-d2405f1a4820 button.colab-df-convert');\n",
              "        buttonEl.style.display =\n",
              "          google.colab.kernel.accessAllowed ? 'block' : 'none';\n",
              "\n",
              "        async function convertToInteractive(key) {\n",
              "          const element = document.querySelector('#df-7ee9af16-8b09-4462-bd47-d2405f1a4820');\n",
              "          const dataTable =\n",
              "            await google.colab.kernel.invokeFunction('convertToInteractive',\n",
              "                                                     [key], {});\n",
              "          if (!dataTable) return;\n",
              "\n",
              "          const docLinkHtml = 'Like what you see? Visit the ' +\n",
              "            '<a target=\"_blank\" href=https://colab.research.google.com/notebooks/data_table.ipynb>data table notebook</a>'\n",
              "            + ' to learn more about interactive tables.';\n",
              "          element.innerHTML = '';\n",
              "          dataTable['output_type'] = 'display_data';\n",
              "          await google.colab.output.renderOutput(dataTable, element);\n",
              "          const docLink = document.createElement('div');\n",
              "          docLink.innerHTML = docLinkHtml;\n",
              "          element.appendChild(docLink);\n",
              "        }\n",
              "      </script>\n",
              "    </div>\n",
              "  </div>\n",
              "  "
            ],
            "text/plain": [
              "           Date  Price   Open   High    Low     Vol. Change %\n",
              "0    1990-11-30  29.20  32.05  32.45  29.05    4.00K   -9.85%\n",
              "1    1990-12-03  29.72  29.00  30.35  28.50   15.48K    1.78%\n",
              "2    1990-12-04  30.70  29.60  30.70  29.50   11.83K    3.30%\n",
              "3    1990-12-05  27.33  29.60  30.30  27.30   23.48K  -10.98%\n",
              "4    1990-12-06  26.80  27.30  28.00  25.45   24.73K   -1.94%\n",
              "...         ...    ...    ...    ...    ...      ...      ...\n",
              "7937 2021-12-23  76.85  75.47  77.00  74.78  161.24K    2.07%\n",
              "7938 2021-12-24  76.14  76.72  76.79  75.75   30.54K   -0.92%\n",
              "7939 2021-12-27  78.60  76.32  79.08  75.75   85.39K    3.23%\n",
              "7940 2021-12-28  78.94  78.67  79.85  78.48   50.41K    0.43%\n",
              "7941 2021-12-29  79.23  79.28  80.17  78.13   69.63K    0.37%\n",
              "\n",
              "[7942 rows x 7 columns]"
            ]
          },
          "metadata": {},
          "execution_count": 6
        }
      ]
    },
    {
      "cell_type": "code",
      "source": [
        "cols = ['Price','Open','High','Low'] #the columns that will be used in the prediction\n",
        "#Normlizing the selected columns\n",
        "scaler = StandardScaler()\n",
        "scaler = scaler.fit(df[cols])\n",
        "data = scaler.transform(df[cols])"
      ],
      "metadata": {
        "id": "-LEYbNFf53im"
      },
      "execution_count": 7,
      "outputs": []
    },
    {
      "cell_type": "code",
      "source": [
        "dates = df['Date'] #seperating the data for visualization purpose"
      ],
      "metadata": {
        "id": "95WWBBoFF-6l"
      },
      "execution_count": 8,
      "outputs": []
    },
    {
      "cell_type": "code",
      "source": [
        "def to_sequence(data, n_past=10, n_future=1):\n",
        "  '''\n",
        "  This function purpose is to restructure the sequence data in \n",
        "  a normal feature and target format\n",
        "\n",
        "  This function assumes that the target is the first column in the data\n",
        "\n",
        "  parameters:\n",
        "  data: the data to be processed\n",
        "  n_past: the number of steps in the past used to predict the future\n",
        "  n_future: the number of steps in future to be predicted\n",
        "\n",
        "  return:\n",
        "  the function returns a tuple of the features (X) and target (Y)\n",
        "  '''\n",
        "  X = []\n",
        "  Y = []\n",
        "  for i in range(n_past, len(data) - n_future +1):\n",
        "    X.append(data[i - n_past:i, 0:data.shape[1]])\n",
        "    Y.append(data[i + n_future - 1:i + n_future, 0]) #\n",
        "\n",
        "  return X,Y\n"
      ],
      "metadata": {
        "id": "NCDsdpe666zn"
      },
      "execution_count": 9,
      "outputs": []
    },
    {
      "cell_type": "code",
      "source": [
        "#seperating the last 5 years for testing and rest for training\n",
        "last_5_years = len(df[df['Date'] >= '2016-1-1'])\n",
        "train = data[:-last_5_years,:]\n",
        "test = data[-last_5_years:,:]\n",
        "dates_training = dates[:-last_5_years]\n",
        "dates_testing = dates[-last_5_years:]\n",
        "train.shape,test.shape"
      ],
      "metadata": {
        "colab": {
          "base_uri": "https://localhost:8080/"
        },
        "id": "GGM1nNfk9o-Q",
        "outputId": "5ca9e973-b1d2-4d21-92be-419e84f6d30a"
      },
      "execution_count": 10,
      "outputs": [
        {
          "output_type": "execute_result",
          "data": {
            "text/plain": [
              "((6394, 4), (1548, 4))"
            ]
          },
          "metadata": {},
          "execution_count": 10
        }
      ]
    },
    {
      "cell_type": "code",
      "source": [
        "trainX,trainY = to_sequence(train, n_past=10)\n",
        "testX,testY = to_sequence(test, n_past=10)"
      ],
      "metadata": {
        "id": "kf5TSIoN-mi1"
      },
      "execution_count": 11,
      "outputs": []
    },
    {
      "cell_type": "code",
      "source": [
        "#converting data to numpy\n",
        "trainX, trainY, testX, testY = np.array(trainX), np.array(trainY), np.array(testX), np.array(testY)"
      ],
      "metadata": {
        "id": "eOIAUBKP_FBM"
      },
      "execution_count": 12,
      "outputs": []
    },
    {
      "cell_type": "code",
      "source": [
        "print('trainX shape == {}.'.format(trainX.shape))\n",
        "print('trainY shape == {}.'.format(trainY.shape))\n",
        "print('testX shape == {}.'.format(testX.shape))\n",
        "print('testY shape == {}.'.format(testY.shape))"
      ],
      "metadata": {
        "colab": {
          "base_uri": "https://localhost:8080/"
        },
        "id": "f4eHmm4YI5qy",
        "outputId": "2e8b6dbf-c477-4658-8852-4297fb24a536"
      },
      "execution_count": 13,
      "outputs": [
        {
          "output_type": "stream",
          "name": "stdout",
          "text": [
            "trainX shape == (6384, 10, 4).\n",
            "trainY shape == (6384, 1).\n",
            "testX shape == (1538, 10, 4).\n",
            "testY shape == (1538, 1).\n"
          ]
        }
      ]
    },
    {
      "cell_type": "code",
      "source": [
        "#constructing the LSTM model\n",
        "model = Sequential()\n",
        "model.add(LSTM(64, activation = 'relu', input_shape = (trainX.shape[1],trainX.shape[2]),return_sequences=True))\n",
        "model.add(LSTM(32, activation='relu', return_sequences=False))\n",
        "model.add(Dropout(0.2))\n",
        "model.add(Dense(trainY.shape[1]))"
      ],
      "metadata": {
        "id": "eYpWZ8w-JYbq"
      },
      "execution_count": 22,
      "outputs": []
    },
    {
      "cell_type": "code",
      "source": [
        "#optimizer is Adam, loss function is mean square error\n",
        "model.compile(optimizer='adam', loss='mse')"
      ],
      "metadata": {
        "id": "sag1xkkyKmBN"
      },
      "execution_count": 23,
      "outputs": []
    },
    {
      "cell_type": "code",
      "source": [
        "model.summary()"
      ],
      "metadata": {
        "colab": {
          "base_uri": "https://localhost:8080/"
        },
        "id": "gNaZGB6xKn_7",
        "outputId": "9dee8377-bf9d-4857-bb86-94cf3658079f"
      },
      "execution_count": 24,
      "outputs": [
        {
          "output_type": "stream",
          "name": "stdout",
          "text": [
            "Model: \"sequential_1\"\n",
            "_________________________________________________________________\n",
            " Layer (type)                Output Shape              Param #   \n",
            "=================================================================\n",
            " lstm_2 (LSTM)               (None, 10, 64)            17664     \n",
            "                                                                 \n",
            " lstm_3 (LSTM)               (None, 32)                12416     \n",
            "                                                                 \n",
            " dropout_1 (Dropout)         (None, 32)                0         \n",
            "                                                                 \n",
            " dense_1 (Dense)             (None, 1)                 33        \n",
            "                                                                 \n",
            "=================================================================\n",
            "Total params: 30,113\n",
            "Trainable params: 30,113\n",
            "Non-trainable params: 0\n",
            "_________________________________________________________________\n"
          ]
        }
      ]
    },
    {
      "cell_type": "code",
      "source": [
        "#training the model\n",
        "history = model.fit(trainX, trainY, epochs=5, batch_size=16, validation_split=0.1, verbose=1)"
      ],
      "metadata": {
        "colab": {
          "base_uri": "https://localhost:8080/"
        },
        "id": "IWermxpZKs4W",
        "outputId": "af9d2e5f-aeb0-49fc-8074-a834cb74b263"
      },
      "execution_count": 25,
      "outputs": [
        {
          "output_type": "stream",
          "name": "stdout",
          "text": [
            "Epoch 1/5\n",
            "360/360 [==============================] - 11s 19ms/step - loss: 0.0710 - val_loss: 0.0142\n",
            "Epoch 2/5\n",
            "360/360 [==============================] - 4s 10ms/step - loss: 0.0326 - val_loss: 0.0081\n",
            "Epoch 3/5\n",
            "360/360 [==============================] - 4s 10ms/step - loss: 0.0320 - val_loss: 0.0087\n",
            "Epoch 4/5\n",
            "360/360 [==============================] - 3s 10ms/step - loss: 0.0316 - val_loss: 0.0359\n",
            "Epoch 5/5\n",
            "360/360 [==============================] - 3s 9ms/step - loss: 0.0319 - val_loss: 0.0045\n"
          ]
        }
      ]
    },
    {
      "cell_type": "code",
      "source": [
        "#ploting the model performance\n",
        "plt.plot(history.history['loss'], label='Training loss')\n",
        "plt.plot(history.history['val_loss'], label='Validation loss')\n",
        "plt.legend()"
      ],
      "metadata": {
        "colab": {
          "base_uri": "https://localhost:8080/",
          "height": 282
        },
        "id": "L6Py_z42K4Tv",
        "outputId": "b0e9da01-260d-425a-cea8-c92cdf84c9f8"
      },
      "execution_count": 26,
      "outputs": [
        {
          "output_type": "execute_result",
          "data": {
            "text/plain": [
              "<matplotlib.legend.Legend at 0x7f56f2f82d90>"
            ]
          },
          "metadata": {},
          "execution_count": 26
        },
        {
          "output_type": "display_data",
          "data": {
            "image/png": "[encoded data removed]",
            "text/plain": [
              "<Figure size 432x288 with 1 Axes>"
            ]
          },
          "metadata": {
            "needs_background": "light"
          }
        }
      ]
    },
    {
      "cell_type": "code",
      "source": [
        "#forcasting the the testing data\n",
        "forcast = model.predict(testX)\n",
        "\n",
        "forcast.shape"
      ],
      "metadata": {
        "colab": {
          "base_uri": "https://localhost:8080/"
        },
        "id": "IJSI6eT4LL3Y",
        "outputId": "47bb56fe-d48d-4209-f70b-8bad55f670a7"
      },
      "execution_count": 27,
      "outputs": [
        {
          "output_type": "execute_result",
          "data": {
            "text/plain": [
              "(1538, 1)"
            ]
          },
          "metadata": {},
          "execution_count": 27
        }
      ]
    },
    {
      "cell_type": "code",
      "source": [
        "#inverse the normlization\n",
        "forcast_copies = np.repeat(forcast, 4, axis=-1)\n",
        "forcast_not_nomalized = scaler.inverse_transform(forcast_copies)[:,0]"
      ],
      "metadata": {
        "id": "Z99D0jQeYbfI"
      },
      "execution_count": 28,
      "outputs": []
    },
    {
      "cell_type": "code",
      "source": [
        "#inverse the normlization\n",
        "testY_copies = np.repeat(testY, 4, axis=-1)\n",
        "testY_not_nomalized = scaler.inverse_transform(testY_copies)[:,0]"
      ],
      "metadata": {
        "id": "7MV8FlbzYyWV"
      },
      "execution_count": 29,
      "outputs": []
    },
    {
      "cell_type": "code",
      "source": [
        "n_past = 10\n",
        "plt.figure(figsize=(15, 10), dpi=80)\n",
        "plt.plot(dates_testing[n_past:],forcast_not_nomalized, label='predicted price')\n",
        "plt.plot(dates_testing[n_past:],testY_not_nomalized, label='actual price')\n",
        "plt.legend()\n",
        "plt.ylabel('Oil price')\n",
        "plt.xlabel('Date')\n",
        "plt.title('predicted vs actual price')"
      ],
      "metadata": {
        "colab": {
          "base_uri": "https://localhost:8080/",
          "height": 702
        },
        "id": "SN6O4BSQOXEm",
        "outputId": "f50d1e5d-2080-4b7e-c3ec-6d48bda4cdde"
      },
      "execution_count": 36,
      "outputs": [
        {
          "output_type": "execute_result",
          "data": {
            "text/plain": [
              "Text(0.5, 1.0, 'predicted vs actual price')"
            ]
          },
          "metadata": {},
          "execution_count": 36
        },
        {
          "output_type": "display_data",
          "data": {
            "image/png": "[encoded data removed]",
            "text/plain": [
              "<Figure size 1200x800 with 1 Axes>"
            ]
          },
          "metadata": {
            "needs_background": "light"
          }
        }
      ]
    },
    {
      "cell_type": "code",
      "source": [
        "sample = [[79.32,79.19,79.66,78.5],[79.23,79.28,80.17,78.13],[78.94,78.67,79.85,78.48],[78.6,76.32,79.08,75.75],[76.14,76.72,76.79,75.75],[76.85,75.47,77,74.78],[75.29,74.05,75.67,73.62],[73.98,71.88,74.27,71.24],[71.52,72.82,72.87,69.28],[73.52,74.5,74.98,72.65]]"
      ],
      "metadata": {
        "id": "4xNmjNr-f0lm"
      },
      "execution_count": 37,
      "outputs": []
    },
    {
      "cell_type": "code",
      "source": [
        "s = np.array(sample)"
      ],
      "metadata": {
        "id": "PMHoIHx6lz49"
      },
      "execution_count": 38,
      "outputs": []
    },
    {
      "cell_type": "code",
      "source": [
        "s = s.reshape((1,10,4))\n",
        "s"
      ],
      "metadata": {
        "colab": {
          "base_uri": "https://localhost:8080/"
        },
        "id": "by9e4Oy-nEkJ",
        "outputId": "27ecbdf3-c451-4c12-936c-6de86f2aa7e9"
      },
      "execution_count": 43,
      "outputs": [
        {
          "output_type": "execute_result",
          "data": {
            "text/plain": [
              "array([[[79.32, 79.19, 79.66, 78.5 ],\n",
              "        [79.23, 79.28, 80.17, 78.13],\n",
              "        [78.94, 78.67, 79.85, 78.48],\n",
              "        [78.6 , 76.32, 79.08, 75.75],\n",
              "        [76.14, 76.72, 76.79, 75.75],\n",
              "        [76.85, 75.47, 77.  , 74.78],\n",
              "        [75.29, 74.05, 75.67, 73.62],\n",
              "        [73.98, 71.88, 74.27, 71.24],\n",
              "        [71.52, 72.82, 72.87, 69.28],\n",
              "        [73.52, 74.5 , 74.98, 72.65]]])"
            ]
          },
          "metadata": {},
          "execution_count": 43
        }
      ]
    },
    {
      "cell_type": "code",
      "source": [
        "result = model.predict(s)"
      ],
      "metadata": {
        "id": "XLipSXYZnXwD"
      },
      "execution_count": 44,
      "outputs": []
    },
    {
      "cell_type": "code",
      "source": [
        "result"
      ],
      "metadata": {
        "colab": {
          "base_uri": "https://localhost:8080/"
        },
        "id": "nlvPAH9KnjDO",
        "outputId": "ec804004-c044-4beb-e8f1-2f6f30583306"
      },
      "execution_count": 45,
      "outputs": [
        {
          "output_type": "execute_result",
          "data": {
            "text/plain": [
              "array([[76.36179]], dtype=float32)"
            ]
          },
          "metadata": {},
          "execution_count": 45
        }
      ]
    },
    {
      "cell_type": "code",
      "source": [
        ""
      ],
      "metadata": {
        "id": "vboHLkEjnlCz"
      },
      "execution_count": null,
      "outputs": []
    }
  ]
}